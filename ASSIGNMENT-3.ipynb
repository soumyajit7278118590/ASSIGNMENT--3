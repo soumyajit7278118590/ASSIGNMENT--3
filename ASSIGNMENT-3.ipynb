{
 "cells": [
  {
   "cell_type": "markdown",
   "metadata": {},
   "source": [
    "# NAME-SOUMYAJIT MONDAL / ASSIGNMENT-3\n",
    "\n",
    "# Questions 1:\n",
    "\n",
    "Create a numpy array starting from 2 till 50 with a stepsize of 3."
   ]
  },
  {
   "cell_type": "code",
   "execution_count": 1,
   "metadata": {},
   "outputs": [
    {
     "name": "stdout",
     "output_type": "stream",
     "text": [
      "[ 2  5  8 11 14 17 20 23 26 29 32 35 38 41 44 47 50]\n"
     ]
    }
   ],
   "source": [
    "import numpy as np  # importing numpy pkg.\n",
    "\n",
    "my_array = np.arange(2, 51, 3)  # numpy.arange(start, stop, step)\n",
    "\n",
    "print(my_array) # printing of an array created by arange function\n"
   ]
  },
  {
   "cell_type": "markdown",
   "metadata": {},
   "source": [
    "# Questions 2:\n",
    "\n",
    "Accept two lists of 5 elements each from the user.\n",
    "Convert them to numpy arrays. Concatenate these arrays and print it. Also sort these arrays and print it.\n"
   ]
  },
  {
   "cell_type": "code",
   "execution_count": 2,
   "metadata": {},
   "outputs": [
    {
     "name": "stdout",
     "output_type": "stream",
     "text": [
      "1\n",
      "2\n",
      "3\n",
      "4\n",
      "5\n",
      "List one : [1, 2, 3, 4, 5]\n",
      "10\n",
      "11\n",
      "12\n",
      "13\n",
      "14\n",
      "List Two [10, 11, 12, 13, 14]\n",
      "List to array convert 1 : [1 2 3 4 5]\n",
      "List to array convert 2 : [10 11 12 13 14]\n",
      "concatenation of arrays are : [ 1  2  3  4  5 10 11 12 13 14]\n",
      "Sorted array : [ 1  2  3  4  5 10 11 12 13 14]\n"
     ]
    }
   ],
   "source": [
    "import numpy as np\n",
    "\n",
    "my_list_one = []\n",
    "my_list_two = []\n",
    "\n",
    "for i in range(5):\n",
    "    my_input = int(input())\n",
    "    my_list_one.append(my_input)\n",
    "\n",
    "print(\"List one :\",my_list_one)\n",
    "\n",
    "for i in range(5):\n",
    "    my_input = int(input())\n",
    "    my_list_two.append(my_input)\n",
    "\n",
    "print(\"List Two\", my_list_two)\n",
    "\n",
    "# conversion of List to Array\n",
    "\n",
    "my_array_one = np.array(my_list_one)\n",
    "my_array_two = np.array(my_list_two)\n",
    "print(\"List to array convert 1 :\", my_array_one)\n",
    "print(\"List to array convert 2 :\", my_array_two)\n",
    "\n",
    "# concatenation of arrays\n",
    "\n",
    "array_concat = np.concatenate((my_array_one, my_array_two))\n",
    "\n",
    "print(\"concatenation of arrays are :\", array_concat)\n",
    "\n",
    "# Sorting of array\n",
    "\n",
    "print(\"Sorted array :\", np.sort(array_concat))\n"
   ]
  },
  {
   "cell_type": "markdown",
   "metadata": {},
   "source": [
    "# Questions 3:\n",
    "\n",
    "Write a code snippet to find the dimensions of a ndarray and its size"
   ]
  },
  {
   "cell_type": "code",
   "execution_count": 6,
   "metadata": {},
   "outputs": [
    {
     "name": "stdout",
     "output_type": "stream",
     "text": [
      "calculating Dimensions of a nd array is : 1\n",
      "Size of an array is : 4\n"
     ]
    }
   ],
   "source": [
    "import numpy as np\n",
    "\n",
    "my_array_one = np.array([[2, 4], [3, 5, 7], [2, 4], [3, 5, 7]])\n",
    "print(\"calculating Dimensions of a nd array is :\", my_array_one.ndim)\n",
    "print(\"Size of an array is :\", my_array_one.size)\n"
   ]
  },
  {
   "cell_type": "markdown",
   "metadata": {},
   "source": [
    "# Questions 4:\n",
    "\n",
    "How to convert a 1D array into a 2D array? Demonstrate with the help of a code snippet\n",
    "Hint: np.newaxis, np.expand_dims"
   ]
  },
  {
   "cell_type": "code",
   "execution_count": 7,
   "metadata": {},
   "outputs": [
    {
     "name": "stdout",
     "output_type": "stream",
     "text": [
      "5\n",
      "Test 1D array (shape) : (5,)\n",
      "Test` 2D array for row is : (1, 5)\n",
      "Test` 2D array for column is : (5, 1)\n"
     ]
    }
   ],
   "source": [
    "import numpy as np\n",
    "\n",
    "arr = np.arange(int(input()))\n",
    "print(\"Test 1D array (shape) :\", arr.shape)\n",
    "\n",
    "two_d_array_row = arr[np.newaxis]\n",
    "print(\"Test` 2D array for row is :\", two_d_array_row.shape)\n",
    "\n",
    "two_d_array_col = arr[:, np.newaxis]\n",
    "print(\"Test` 2D array for column is :\", two_d_array_col.shape)"
   ]
  },
  {
   "cell_type": "markdown",
   "metadata": {},
   "source": [
    "# Questions 5:\n",
    "\n",
    "Consider two square numpy arrays. Stack them vertically and horizontally.\n",
    "Hint: Use vstack(), hstack()\n"
   ]
  },
  {
   "cell_type": "code",
   "execution_count": 10,
   "metadata": {},
   "outputs": [
    {
     "name": "stdout",
     "output_type": "stream",
     "text": [
      " horizontally stacked : [  4  16  36  64 100 144 196 256 324 400 484 576 676 784   1   9  25  36\n",
      "  49  64  16  25  36]\n",
      "vertically stacked :  [  4  16  36  64 100 144 196 256 324 400 484 576 676 784   1   9  25  36\n",
      "  49  64  16  25  36]\n"
     ]
    }
   ],
   "source": [
    "import numpy as np\n",
    "\n",
    "my_array_one = np.square([2, 4, 6, 8, 10, 12, 14, 16, 18, 20, 22, 24, 26, 28])  # square of numpy array\n",
    "my_array_two = np.square([1, 3, 5, 6, 7, 8, 4, 5, 6])  # square of numpy array\n",
    "\n",
    "print(\" horizontally stacked :\", np.hstack((my_array_one, my_array_two)))\n",
    "\n",
    "print(\"vertically stacked : \", np.hstack((my_array_one, my_array_two)))\n",
    "\n"
   ]
  },
  {
   "cell_type": "markdown",
   "metadata": {},
   "source": [
    "# Questions 6:\n",
    "\n",
    "How to get unique items and counts of unique items?"
   ]
  },
  {
   "cell_type": "code",
   "execution_count": 12,
   "metadata": {},
   "outputs": [
    {
     "name": "stdout",
     "output_type": "stream",
     "text": [
      "[[1 1]\n",
      " [2 1]\n",
      " [3 1]\n",
      " [4 1]\n",
      " [5 1]\n",
      " [6 1]\n",
      " [7 1]\n",
      " [8 1]\n",
      " [9 1]]\n"
     ]
    }
   ],
   "source": [
    "import numpy as np\n",
    "\n",
    "arr = np.array([1, 3, 4, 6, 5, 7, 9, 8, 2])\n",
    "\n",
    "unique, counts = np.unique(arr, return_counts=True)\n",
    "arr = np.asarray((unique, counts)).T\n",
    "print(arr)"
   ]
  }
 ],
 "metadata": {
  "kernelspec": {
   "display_name": "Python 3",
   "language": "python",
   "name": "python3"
  },
  "language_info": {
   "codemirror_mode": {
    "name": "ipython",
    "version": 3
   },
   "file_extension": ".py",
   "mimetype": "text/x-python",
   "name": "python",
   "nbconvert_exporter": "python",
   "pygments_lexer": "ipython3",
   "version": "3.8.3"
  }
 },
 "nbformat": 4,
 "nbformat_minor": 4
}
